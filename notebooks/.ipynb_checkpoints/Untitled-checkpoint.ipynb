{
 "cells": [
  {
   "cell_type": "code",
   "execution_count": 186,
   "metadata": {},
   "outputs": [],
   "source": [
    "import random\n",
    "import time"
   ]
  },
  {
   "cell_type": "code",
   "execution_count": 187,
   "metadata": {},
   "outputs": [],
   "source": [
    "cards_type=('A','2','3','4','5','6','7','8','9','10','J','Q','K')\n",
    "\n",
    "one_deck=cards_type*4"
   ]
  },
  {
   "cell_type": "code",
   "execution_count": 188,
   "metadata": {},
   "outputs": [],
   "source": [
    "card_values={'A':11,'2':2,'3':3,'4':4,'5':5,'6':6,'7':7,'8':8,'9':9,'10':10,'J':10,'Q':10,'K':10}"
   ]
  },
  {
   "cell_type": "code",
   "execution_count": 189,
   "metadata": {},
   "outputs": [],
   "source": [
    "user_count=0\n",
    "user_cards=[]\n",
    "dealer_count=0\n",
    "dealer_cards=[]"
   ]
  },
  {
   "cell_type": "code",
   "execution_count": null,
   "metadata": {},
   "outputs": [],
   "source": []
  },
  {
   "cell_type": "code",
   "execution_count": 190,
   "metadata": {},
   "outputs": [],
   "source": [
    "def enter_num_decks():\n",
    "    '''\n",
    "    This function asks user to input number of decks to play game.\n",
    "    Input: None for function\n",
    "    Output: Integer\n",
    "\n",
    "    '''\n",
    "    num_decks=input('How many decks you want to play with at start of game? Input integer please.')\n",
    "    if num_decks.isdigit():\n",
    "        return int(num_decks)\n",
    "    else:\n",
    "        print('Wrong input value. Please enter an integer')\n",
    "        return enter_num_decks()\n",
    "        "
   ]
  },
  {
   "cell_type": "code",
   "execution_count": 191,
   "metadata": {},
   "outputs": [],
   "source": [
    "def draw_card():\n",
    "    '''\n",
    "    This function is called when dealer draws a card\n",
    "    Input: none\n",
    "    Output: The next item in the deck\n",
    "    '''\n",
    "    card_drawn=next(card_drawer)\n",
    "    print(f'The card is a....{card_drawn}!!')\n",
    "    return card_drawn"
   ]
  },
  {
   "cell_type": "code",
   "execution_count": 192,
   "metadata": {},
   "outputs": [],
   "source": [
    "def user_decision(user_cards):\n",
    "    '''\n",
    "    '''\n",
    "    check = True\n",
    "    while check:\n",
    "        decision=input('Now is your turn again! What\\'s gonna be, hit or stand?\\n\\'0\\' for stand.\\n\\'1\\' for hit)\\n')\n",
    "        if decision == str(0):\n",
    "            print('You stand')\n",
    "\n",
    "            return user_cards\n",
    "\n",
    "        elif decision == str(1):\n",
    "            print('Here it comes your new card...')\n",
    "            time.sleep(1)\n",
    "            user_cards.append(draw_card())\n",
    "            user_count=get_count(user_cards)\n",
    "            print(f'Your count is {user_count}')\n",
    "        else:\n",
    "            print('Wrong input value. Please enter either 0 to stand or 1 to hit')\n",
    "            return user_decision()\n",
    "\n",
    "        if user_count > 21:\n",
    "\n",
    "            return user_cards\n",
    "            \n",
    "        \n",
    "        "
   ]
  },
  {
   "cell_type": "code",
   "execution_count": 202,
   "metadata": {},
   "outputs": [],
   "source": [
    "def get_count(card_list):\n",
    "    '''\n",
    "    This function updates the count of cards\n",
    "    '''\n",
    "    \n",
    "    def reorder_aces(card_list):\n",
    "        '''\n",
    "        This function reorder Aces and places them at the end of the list\n",
    "        '''\n",
    "\n",
    "        if 'A' in card_list:\n",
    "            card_list=sorted(card_list, key= lambda x: card_values[x])\n",
    "\n",
    "        else:\n",
    "            pass\n",
    "        return card_list\n",
    "\n",
    "\n",
    "\n",
    "    count = 0\n",
    "    \n",
    "    card_list=reorder_aces(card_list) #This is needed to deal with Aces\n",
    "    for card in card_list:\n",
    "        if card != 'A':\n",
    "            count += card_values[card]\n",
    "        else: #it means it is an Ace\n",
    "            if count + card_values['A'] <= 21: #This checks if Ace as 11 exceeds 21 or not\n",
    "                count += card_values['A']\n",
    "            else:\n",
    "                count += 1\n",
    "    return count"
   ]
  },
  {
   "cell_type": "code",
   "execution_count": 195,
   "metadata": {},
   "outputs": [],
   "source": [
    "def initial_user_two_cards():\n",
    "    '''\n",
    "    This functions is for hitting first two cards for player\n",
    "    '''\n",
    "    temp_list=[]\n",
    "    for x in range(2):\n",
    "        temp_list.append(draw_card())\n",
    "        time.sleep(1)\n",
    "    return temp_list\n",
    "        "
   ]
  },
  {
   "cell_type": "code",
   "execution_count": 206,
   "metadata": {},
   "outputs": [],
   "source": [
    "def check_user_game(user_cards):\n",
    "    '''\n",
    "    This checks based on the cards of the user, whether the game should continue \n",
    "    with the dealer or the user has already lost.\n",
    "    '''\n",
    "    user_count=get_count(user_cards)\n",
    "    \n",
    "    if user_count > 21:\n",
    "        print(f'You lose!! Sorry but you exceeded 21.\\n You got a total number of {user_count}')\n",
    "        return False\n",
    "    else:\n",
    "        return True\n",
    "        \n",
    "\n",
    "    "
   ]
  },
  {
   "cell_type": "code",
   "execution_count": 207,
   "metadata": {},
   "outputs": [],
   "source": [
    "def dealer_play(dealer_cards):\n",
    "    check = True\n",
    "    while check:\n",
    "        print('Here it comes a new card for dealer...')\n",
    "        time.sleep(1)\n",
    "        dealer_cards.append(draw_card())\n",
    "        dealer_count=get_count(dealer_cards)\n",
    "        \n",
    "        if dealer_count > 21:\n",
    "            return dealer_cards\n",
    "        \n",
    "        elif dealer_count >=17:\n",
    "            return dealer_cards\n",
    "        \n",
    "        else:\n",
    "            print(f'Dealer\\'s count is now {dealer_count}')\n",
    "            print(f'Count is below 17, therefore dealer decides to hit one more card')\n",
    "            \n",
    "            \n",
    "            \n",
    "        \n",
    "    "
   ]
  },
  {
   "cell_type": "code",
   "execution_count": 209,
   "metadata": {},
   "outputs": [],
   "source": [
    "def who_win(user_count, dealer_count):\n",
    "    if dealer_count > 21:\n",
    "        print('Congratulations!! You won!')\n",
    "        print(f'Dealer exceeded 21. Dealer got {dealer_count}')\n",
    "    elif dealer_count < user_count:\n",
    "        print('Congratulations!! You won!')\n",
    "        print(f'Dealer got {dealer_count} ... but you got {user_count}!!')\n",
    "    else:\n",
    "        print('You lose!!')\n",
    "        print(f'Dealer got {dealer_count} ... but you got {user_count}....')\n",
    "        print(f'It is so sad a machine outplayed you...')\n"
   ]
  },
  {
   "cell_type": "code",
   "execution_count": 211,
   "metadata": {
    "scrolled": true
   },
   "outputs": [
    {
     "name": "stdout",
     "output_type": "stream",
     "text": [
      "How many decks you want to play with at start of game? Input integer please.5\n",
      "Game is ready to start. May the force be with you\n",
      "Here comes your first two cards...\n",
      "The card is a....J!!\n",
      "The card is a....8!!\n",
      "Your count is 18\n",
      "Now the dealer gets his/her first card...\n",
      "The card is a....6!!\n",
      "Dealer count is 6\n",
      "Let'ts recap.\n",
      "Your count is 18.\n",
      "Dealer's count is 6\n",
      "Now is your turn again! What's gonna be, hit or stand?\n",
      "'0' for stand.\n",
      "'1' for hit)\n",
      "0\n",
      "You stand\n",
      "Now is time for the dealer.\n",
      "Here it comes a new card for dealer...\n",
      "The card is a....5!!\n",
      "Dealer's count is now 11\n",
      "Count is below 17, therefore dealer decides to hit one more card\n",
      "Here it comes a new card for dealer...\n",
      "The card is a....7!!\n",
      "You lose!!\n",
      "Dealer got 18 ... but you got 18....\n",
      "It is so sad a machine outplayed you...\n"
     ]
    }
   ],
   "source": [
    "num_decks=enter_num_decks()\n",
    "deck_in_game_initial=list(one_deck)*num_decks\n",
    "current_deck=deck_in_game_initial*1 #This to create a copy and be sure they are not linked\n",
    "random.shuffle(current_deck)\n",
    "card_drawer=iter(current_deck)\n",
    "\n",
    "print('Game is ready to start. May the force be with you')\n",
    "time.sleep(1)\n",
    "print('Here comes your first two cards...')\n",
    "time.sleep(1)\n",
    "user_cards = initial_user_two_cards()\n",
    "user_count=get_count(user_cards)\n",
    "print(f'Your count is {user_count}')\n",
    "time.sleep(1)\n",
    "print('Now the dealer gets his/her first card...')\n",
    "dealer_cards = list(draw_card())\n",
    "dealer_count=get_count(dealer_cards)\n",
    "time.sleep(1)\n",
    "print(f'Dealer\\'s count is {dealer_count}')\n",
    "time.sleep(1)\n",
    "print(f'Let\\'ts recap.\\nYour count is {user_count}.\\nDealer\\'s count is {dealer_count}')\n",
    "time.sleep(1)\n",
    "user_cards=user_decision(user_cards)\n",
    "time.sleep(1)\n",
    "\n",
    "if user_count > 21:\n",
    "    print(f'You lose!! Sorry but you exceeded 21.\\n You got a total number of {user_count}')\n",
    "else:\n",
    "    print('Now is time for the dealer.')\n",
    "    dealer_cards=dealer_play(dealer_cards)\n",
    "    dealer_count=get_count(dealer_cards)\n",
    "    who_win(user_count, dealer_count)\n",
    "            \n",
    "\n",
    "\n",
    "    \n",
    "    \n",
    "    \n",
    "    \n",
    "\n",
    "    \n",
    "\n",
    "\n"
   ]
  },
  {
   "cell_type": "code",
   "execution_count": null,
   "metadata": {},
   "outputs": [],
   "source": []
  }
 ],
 "metadata": {
  "kernelspec": {
   "display_name": "Python 3",
   "language": "python",
   "name": "python3"
  },
  "language_info": {
   "codemirror_mode": {
    "name": "ipython",
    "version": 3
   },
   "file_extension": ".py",
   "mimetype": "text/x-python",
   "name": "python",
   "nbconvert_exporter": "python",
   "pygments_lexer": "ipython3",
   "version": "3.8.3"
  }
 },
 "nbformat": 4,
 "nbformat_minor": 4
}
